{
 "cells": [
  {
   "cell_type": "markdown",
   "metadata": {
    "id": "qfWghwSiUeb_"
   },
   "source": [
    "Binary classification problem in which our main ojective is to be able predict if a transaction is fraudalent or not depending on severalother variables and information."
   ]
  },
  {
   "cell_type": "code",
   "execution_count": 1,
   "metadata": {
    "id": "HPY02VFjUecB"
   },
   "outputs": [],
   "source": [
    "import os\n",
    "import pandas as pd\n",
    "import matplotlib.pyplot as plt\n",
    "from sklearn import preprocessing\n",
    "\n",
    "SPACE = '-----------------------------------------------------'\n",
    "NEXT_ANALYSIS = '-------------------- NEXT ANALYSIS ------------------'\n",
    "folder_path = \"\"\n",
    "path = os.getcwd()\n",
    "categorical_data = ['id_12', 'id_13', 'id_14', 'id_15', 'id_16',\n",
    "                    'id_17', 'id_18', 'id_19', 'id_20', 'id_21',\n",
    "                    'id_22', 'id_23', 'id_24', 'id_25', 'id_26',\n",
    "                    'id_27', 'id_28', 'id_29'] \n",
    "\n",
    "categorical_data_client_device_info = ['id_30', 'id_31','id_32','id_33', 'id_34','id_35', 'id_36','id_37', 'id_38','DeviceType', 'DeviceInfo']\n",
    "\n",
    "categorical_data_cards = ['ProductCD', 'card4', 'card6', 'M4', 'M1', 'M2', 'M3', 'M5', 'M6', 'M7', 'M8', 'M9']\n",
    "\n",
    "categorical_data_domain = ['P_emaildomain', 'R_emaildomain', 'card1', 'card2', 'card3',  'card5', 'addr1', 'addr2']\n"
   ]
  },
  {
   "cell_type": "code",
   "execution_count": 2,
   "metadata": {
    "id": "CKuZhWA2UecC"
   },
   "outputs": [],
   "source": [
    "def data_merge(path, set_1, set_2, data_class):\n",
    "    identity = pd.read_csv(f'{folder_path}' + set_1)\n",
    "    transaction = pd.read_csv(f'{folder_path}' + set_2)\n",
    "    merge_data = pd.merge(identity, transaction, on='TransactionID', how = 'left')\n",
    "    print (f'{data_class} dataset has {merge_data.shape[0]} rows and columns {merge_data.shape[1]}')\n",
    "    return merge_data\n"
   ]
  },
  {
   "cell_type": "code",
   "execution_count": 3,
   "metadata": {
    "colab": {
     "base_uri": "https://localhost:8080/"
    },
    "id": "Rol8Lpw3UecD",
    "outputId": "eacb2191-39be-42ff-94cd-cc5e2948f314"
   },
   "outputs": [
    {
     "name": "stdout",
     "output_type": "stream",
     "text": [
      "Train dataset has 590540 rows and columns 434\n",
      "The are 414 columns in train dataset with missing values\n"
     ]
    }
   ],
   "source": [
    "train = data_merge(path,  'train_transaction.csv', 'train_identity.csv','Train') #switched order\n",
    "print(f'The are {train.isnull().any().sum()} columns in train dataset with missing values')"
   ]
  },
  {
   "cell_type": "code",
   "execution_count": 4,
   "metadata": {
    "id": "JD9vs4a1UecD"
   },
   "outputs": [
    {
     "name": "stdout",
     "output_type": "stream",
     "text": [
      "        isFraud\n",
      "0             0\n",
      "1             0\n",
      "2             0\n",
      "3             0\n",
      "4             0\n",
      "...         ...\n",
      "590535        0\n",
      "590536        0\n",
      "590537        0\n",
      "590538        0\n",
      "590539        0\n",
      "\n",
      "[590540 rows x 1 columns]\n"
     ]
    },
    {
     "data": {
      "text/plain": [
       "\"\\ntrain = data_merge(path, 'train_identity.csv', 'train_transaction.csv', 'Train') #switched order\\nprint(f'The are {train.isnull().any().sum()} columns in train dataset with missing values')\\n\""
      ]
     },
     "execution_count": 4,
     "metadata": {},
     "output_type": "execute_result"
    }
   ],
   "source": [
    "#train.head()\n",
    "train_y = train.get([\"isFraud\"])\n",
    "print(train_y)\n",
    "'''\n",
    "train = data_merge(path, 'train_identity.csv', 'train_transaction.csv', 'Train') #switched order\n",
    "print(f'The are {train.isnull().any().sum()} columns in train dataset with missing values')\n",
    "'''\n",
    "#train_y.to_csv(\"train_y.csv\",index=False)"
   ]
  },
  {
   "cell_type": "code",
   "execution_count": 5,
   "metadata": {
    "colab": {
     "base_uri": "https://localhost:8080/",
     "height": 289
    },
    "id": "H1k0xbQs92JN",
    "outputId": "8db828ce-3b6a-4f0c-d687-b9c9d4f93334"
   },
   "outputs": [
    {
     "data": {
      "text/html": [
       "<div>\n",
       "<style scoped>\n",
       "    .dataframe tbody tr th:only-of-type {\n",
       "        vertical-align: middle;\n",
       "    }\n",
       "\n",
       "    .dataframe tbody tr th {\n",
       "        vertical-align: top;\n",
       "    }\n",
       "\n",
       "    .dataframe thead th {\n",
       "        text-align: right;\n",
       "    }\n",
       "</style>\n",
       "<table border=\"1\" class=\"dataframe\">\n",
       "  <thead>\n",
       "    <tr style=\"text-align: right;\">\n",
       "      <th></th>\n",
       "      <th>TransactionID</th>\n",
       "      <th>isFraud</th>\n",
       "      <th>TransactionDT</th>\n",
       "      <th>TransactionAmt</th>\n",
       "      <th>ProductCD</th>\n",
       "      <th>card1</th>\n",
       "      <th>card2</th>\n",
       "      <th>card3</th>\n",
       "      <th>card4</th>\n",
       "      <th>card5</th>\n",
       "      <th>...</th>\n",
       "      <th>id_31</th>\n",
       "      <th>id_32</th>\n",
       "      <th>id_33</th>\n",
       "      <th>id_34</th>\n",
       "      <th>id_35</th>\n",
       "      <th>id_36</th>\n",
       "      <th>id_37</th>\n",
       "      <th>id_38</th>\n",
       "      <th>DeviceType</th>\n",
       "      <th>DeviceInfo</th>\n",
       "    </tr>\n",
       "  </thead>\n",
       "  <tbody>\n",
       "    <tr>\n",
       "      <th>0</th>\n",
       "      <td>2987000</td>\n",
       "      <td>0</td>\n",
       "      <td>86400</td>\n",
       "      <td>68.5</td>\n",
       "      <td>W</td>\n",
       "      <td>13926</td>\n",
       "      <td>NaN</td>\n",
       "      <td>150.0</td>\n",
       "      <td>discover</td>\n",
       "      <td>142.0</td>\n",
       "      <td>...</td>\n",
       "      <td>NaN</td>\n",
       "      <td>NaN</td>\n",
       "      <td>NaN</td>\n",
       "      <td>NaN</td>\n",
       "      <td>NaN</td>\n",
       "      <td>NaN</td>\n",
       "      <td>NaN</td>\n",
       "      <td>NaN</td>\n",
       "      <td>NaN</td>\n",
       "      <td>NaN</td>\n",
       "    </tr>\n",
       "    <tr>\n",
       "      <th>1</th>\n",
       "      <td>2987001</td>\n",
       "      <td>0</td>\n",
       "      <td>86401</td>\n",
       "      <td>29.0</td>\n",
       "      <td>W</td>\n",
       "      <td>2755</td>\n",
       "      <td>404.0</td>\n",
       "      <td>150.0</td>\n",
       "      <td>mastercard</td>\n",
       "      <td>102.0</td>\n",
       "      <td>...</td>\n",
       "      <td>NaN</td>\n",
       "      <td>NaN</td>\n",
       "      <td>NaN</td>\n",
       "      <td>NaN</td>\n",
       "      <td>NaN</td>\n",
       "      <td>NaN</td>\n",
       "      <td>NaN</td>\n",
       "      <td>NaN</td>\n",
       "      <td>NaN</td>\n",
       "      <td>NaN</td>\n",
       "    </tr>\n",
       "    <tr>\n",
       "      <th>2</th>\n",
       "      <td>2987002</td>\n",
       "      <td>0</td>\n",
       "      <td>86469</td>\n",
       "      <td>59.0</td>\n",
       "      <td>W</td>\n",
       "      <td>4663</td>\n",
       "      <td>490.0</td>\n",
       "      <td>150.0</td>\n",
       "      <td>visa</td>\n",
       "      <td>166.0</td>\n",
       "      <td>...</td>\n",
       "      <td>NaN</td>\n",
       "      <td>NaN</td>\n",
       "      <td>NaN</td>\n",
       "      <td>NaN</td>\n",
       "      <td>NaN</td>\n",
       "      <td>NaN</td>\n",
       "      <td>NaN</td>\n",
       "      <td>NaN</td>\n",
       "      <td>NaN</td>\n",
       "      <td>NaN</td>\n",
       "    </tr>\n",
       "    <tr>\n",
       "      <th>3</th>\n",
       "      <td>2987003</td>\n",
       "      <td>0</td>\n",
       "      <td>86499</td>\n",
       "      <td>50.0</td>\n",
       "      <td>W</td>\n",
       "      <td>18132</td>\n",
       "      <td>567.0</td>\n",
       "      <td>150.0</td>\n",
       "      <td>mastercard</td>\n",
       "      <td>117.0</td>\n",
       "      <td>...</td>\n",
       "      <td>NaN</td>\n",
       "      <td>NaN</td>\n",
       "      <td>NaN</td>\n",
       "      <td>NaN</td>\n",
       "      <td>NaN</td>\n",
       "      <td>NaN</td>\n",
       "      <td>NaN</td>\n",
       "      <td>NaN</td>\n",
       "      <td>NaN</td>\n",
       "      <td>NaN</td>\n",
       "    </tr>\n",
       "    <tr>\n",
       "      <th>4</th>\n",
       "      <td>2987004</td>\n",
       "      <td>0</td>\n",
       "      <td>86506</td>\n",
       "      <td>50.0</td>\n",
       "      <td>H</td>\n",
       "      <td>4497</td>\n",
       "      <td>514.0</td>\n",
       "      <td>150.0</td>\n",
       "      <td>mastercard</td>\n",
       "      <td>102.0</td>\n",
       "      <td>...</td>\n",
       "      <td>samsung browser 6.2</td>\n",
       "      <td>32.0</td>\n",
       "      <td>2220x1080</td>\n",
       "      <td>match_status:2</td>\n",
       "      <td>T</td>\n",
       "      <td>F</td>\n",
       "      <td>T</td>\n",
       "      <td>T</td>\n",
       "      <td>mobile</td>\n",
       "      <td>SAMSUNG SM-G892A Build/NRD90M</td>\n",
       "    </tr>\n",
       "  </tbody>\n",
       "</table>\n",
       "<p>5 rows × 434 columns</p>\n",
       "</div>"
      ],
      "text/plain": [
       "   TransactionID  isFraud  TransactionDT  TransactionAmt ProductCD  card1  \\\n",
       "0        2987000        0          86400            68.5         W  13926   \n",
       "1        2987001        0          86401            29.0         W   2755   \n",
       "2        2987002        0          86469            59.0         W   4663   \n",
       "3        2987003        0          86499            50.0         W  18132   \n",
       "4        2987004        0          86506            50.0         H   4497   \n",
       "\n",
       "   card2  card3       card4  card5  ...                id_31  id_32  \\\n",
       "0    NaN  150.0    discover  142.0  ...                  NaN    NaN   \n",
       "1  404.0  150.0  mastercard  102.0  ...                  NaN    NaN   \n",
       "2  490.0  150.0        visa  166.0  ...                  NaN    NaN   \n",
       "3  567.0  150.0  mastercard  117.0  ...                  NaN    NaN   \n",
       "4  514.0  150.0  mastercard  102.0  ...  samsung browser 6.2   32.0   \n",
       "\n",
       "       id_33           id_34  id_35 id_36 id_37  id_38  DeviceType  \\\n",
       "0        NaN             NaN    NaN   NaN   NaN    NaN         NaN   \n",
       "1        NaN             NaN    NaN   NaN   NaN    NaN         NaN   \n",
       "2        NaN             NaN    NaN   NaN   NaN    NaN         NaN   \n",
       "3        NaN             NaN    NaN   NaN   NaN    NaN         NaN   \n",
       "4  2220x1080  match_status:2      T     F     T      T      mobile   \n",
       "\n",
       "                      DeviceInfo  \n",
       "0                            NaN  \n",
       "1                            NaN  \n",
       "2                            NaN  \n",
       "3                            NaN  \n",
       "4  SAMSUNG SM-G892A Build/NRD90M  \n",
       "\n",
       "[5 rows x 434 columns]"
      ]
     },
     "execution_count": 5,
     "metadata": {},
     "output_type": "execute_result"
    }
   ],
   "source": [
    "train.head()"
   ]
  },
  {
   "cell_type": "code",
   "execution_count": 6,
   "metadata": {
    "colab": {
     "base_uri": "https://localhost:8080/"
    },
    "id": "NbgjG1nrUecE",
    "outputId": "8ed11175-1197-4512-8d24-e0f291dc4419"
   },
   "outputs": [
    {
     "name": "stdout",
     "output_type": "stream",
     "text": [
      "Test dataset has 506691 rows and columns 433\n",
      "The are 385 columns in test dataset with missing values\n"
     ]
    }
   ],
   "source": [
    "test = data_merge(path,'test_transaction.csv','test_identity.csv', 'Test')#was train_transaction.csv\n",
    "print(f'The are {test.isnull().any().sum()} columns in test dataset with missing values')"
   ]
  },
  {
   "cell_type": "code",
   "execution_count": 7,
   "metadata": {
    "colab": {
     "base_uri": "https://localhost:8080/",
     "height": 272
    },
    "id": "SL3xZdx1UecE",
    "outputId": "894a45b0-8c0c-4f40-accd-2f3a2047a754"
   },
   "outputs": [
    {
     "data": {
      "text/html": [
       "<div>\n",
       "<style scoped>\n",
       "    .dataframe tbody tr th:only-of-type {\n",
       "        vertical-align: middle;\n",
       "    }\n",
       "\n",
       "    .dataframe tbody tr th {\n",
       "        vertical-align: top;\n",
       "    }\n",
       "\n",
       "    .dataframe thead th {\n",
       "        text-align: right;\n",
       "    }\n",
       "</style>\n",
       "<table border=\"1\" class=\"dataframe\">\n",
       "  <thead>\n",
       "    <tr style=\"text-align: right;\">\n",
       "      <th></th>\n",
       "      <th>TransactionID</th>\n",
       "      <th>TransactionDT</th>\n",
       "      <th>TransactionAmt</th>\n",
       "      <th>ProductCD</th>\n",
       "      <th>card1</th>\n",
       "      <th>card2</th>\n",
       "      <th>card3</th>\n",
       "      <th>card4</th>\n",
       "      <th>card5</th>\n",
       "      <th>card6</th>\n",
       "      <th>...</th>\n",
       "      <th>id-31</th>\n",
       "      <th>id-32</th>\n",
       "      <th>id-33</th>\n",
       "      <th>id-34</th>\n",
       "      <th>id-35</th>\n",
       "      <th>id-36</th>\n",
       "      <th>id-37</th>\n",
       "      <th>id-38</th>\n",
       "      <th>DeviceType</th>\n",
       "      <th>DeviceInfo</th>\n",
       "    </tr>\n",
       "  </thead>\n",
       "  <tbody>\n",
       "    <tr>\n",
       "      <th>0</th>\n",
       "      <td>3663549</td>\n",
       "      <td>18403224</td>\n",
       "      <td>31.95</td>\n",
       "      <td>W</td>\n",
       "      <td>10409</td>\n",
       "      <td>111.0</td>\n",
       "      <td>150.0</td>\n",
       "      <td>visa</td>\n",
       "      <td>226.0</td>\n",
       "      <td>debit</td>\n",
       "      <td>...</td>\n",
       "      <td>NaN</td>\n",
       "      <td>NaN</td>\n",
       "      <td>NaN</td>\n",
       "      <td>NaN</td>\n",
       "      <td>NaN</td>\n",
       "      <td>NaN</td>\n",
       "      <td>NaN</td>\n",
       "      <td>NaN</td>\n",
       "      <td>NaN</td>\n",
       "      <td>NaN</td>\n",
       "    </tr>\n",
       "    <tr>\n",
       "      <th>1</th>\n",
       "      <td>3663550</td>\n",
       "      <td>18403263</td>\n",
       "      <td>49.00</td>\n",
       "      <td>W</td>\n",
       "      <td>4272</td>\n",
       "      <td>111.0</td>\n",
       "      <td>150.0</td>\n",
       "      <td>visa</td>\n",
       "      <td>226.0</td>\n",
       "      <td>debit</td>\n",
       "      <td>...</td>\n",
       "      <td>NaN</td>\n",
       "      <td>NaN</td>\n",
       "      <td>NaN</td>\n",
       "      <td>NaN</td>\n",
       "      <td>NaN</td>\n",
       "      <td>NaN</td>\n",
       "      <td>NaN</td>\n",
       "      <td>NaN</td>\n",
       "      <td>NaN</td>\n",
       "      <td>NaN</td>\n",
       "    </tr>\n",
       "    <tr>\n",
       "      <th>2</th>\n",
       "      <td>3663551</td>\n",
       "      <td>18403310</td>\n",
       "      <td>171.00</td>\n",
       "      <td>W</td>\n",
       "      <td>4476</td>\n",
       "      <td>574.0</td>\n",
       "      <td>150.0</td>\n",
       "      <td>visa</td>\n",
       "      <td>226.0</td>\n",
       "      <td>debit</td>\n",
       "      <td>...</td>\n",
       "      <td>NaN</td>\n",
       "      <td>NaN</td>\n",
       "      <td>NaN</td>\n",
       "      <td>NaN</td>\n",
       "      <td>NaN</td>\n",
       "      <td>NaN</td>\n",
       "      <td>NaN</td>\n",
       "      <td>NaN</td>\n",
       "      <td>NaN</td>\n",
       "      <td>NaN</td>\n",
       "    </tr>\n",
       "    <tr>\n",
       "      <th>3</th>\n",
       "      <td>3663552</td>\n",
       "      <td>18403310</td>\n",
       "      <td>284.95</td>\n",
       "      <td>W</td>\n",
       "      <td>10989</td>\n",
       "      <td>360.0</td>\n",
       "      <td>150.0</td>\n",
       "      <td>visa</td>\n",
       "      <td>166.0</td>\n",
       "      <td>debit</td>\n",
       "      <td>...</td>\n",
       "      <td>NaN</td>\n",
       "      <td>NaN</td>\n",
       "      <td>NaN</td>\n",
       "      <td>NaN</td>\n",
       "      <td>NaN</td>\n",
       "      <td>NaN</td>\n",
       "      <td>NaN</td>\n",
       "      <td>NaN</td>\n",
       "      <td>NaN</td>\n",
       "      <td>NaN</td>\n",
       "    </tr>\n",
       "    <tr>\n",
       "      <th>4</th>\n",
       "      <td>3663553</td>\n",
       "      <td>18403317</td>\n",
       "      <td>67.95</td>\n",
       "      <td>W</td>\n",
       "      <td>18018</td>\n",
       "      <td>452.0</td>\n",
       "      <td>150.0</td>\n",
       "      <td>mastercard</td>\n",
       "      <td>117.0</td>\n",
       "      <td>debit</td>\n",
       "      <td>...</td>\n",
       "      <td>NaN</td>\n",
       "      <td>NaN</td>\n",
       "      <td>NaN</td>\n",
       "      <td>NaN</td>\n",
       "      <td>NaN</td>\n",
       "      <td>NaN</td>\n",
       "      <td>NaN</td>\n",
       "      <td>NaN</td>\n",
       "      <td>NaN</td>\n",
       "      <td>NaN</td>\n",
       "    </tr>\n",
       "  </tbody>\n",
       "</table>\n",
       "<p>5 rows × 433 columns</p>\n",
       "</div>"
      ],
      "text/plain": [
       "   TransactionID  TransactionDT  TransactionAmt ProductCD  card1  card2  \\\n",
       "0        3663549       18403224           31.95         W  10409  111.0   \n",
       "1        3663550       18403263           49.00         W   4272  111.0   \n",
       "2        3663551       18403310          171.00         W   4476  574.0   \n",
       "3        3663552       18403310          284.95         W  10989  360.0   \n",
       "4        3663553       18403317           67.95         W  18018  452.0   \n",
       "\n",
       "   card3       card4  card5  card6  ...  id-31  id-32  id-33  id-34 id-35  \\\n",
       "0  150.0        visa  226.0  debit  ...    NaN    NaN    NaN    NaN   NaN   \n",
       "1  150.0        visa  226.0  debit  ...    NaN    NaN    NaN    NaN   NaN   \n",
       "2  150.0        visa  226.0  debit  ...    NaN    NaN    NaN    NaN   NaN   \n",
       "3  150.0        visa  166.0  debit  ...    NaN    NaN    NaN    NaN   NaN   \n",
       "4  150.0  mastercard  117.0  debit  ...    NaN    NaN    NaN    NaN   NaN   \n",
       "\n",
       "  id-36  id-37  id-38  DeviceType  DeviceInfo  \n",
       "0   NaN    NaN    NaN         NaN         NaN  \n",
       "1   NaN    NaN    NaN         NaN         NaN  \n",
       "2   NaN    NaN    NaN         NaN         NaN  \n",
       "3   NaN    NaN    NaN         NaN         NaN  \n",
       "4   NaN    NaN    NaN         NaN         NaN  \n",
       "\n",
       "[5 rows x 433 columns]"
      ]
     },
     "execution_count": 7,
     "metadata": {},
     "output_type": "execute_result"
    }
   ],
   "source": [
    "test.head()"
   ]
  },
  {
   "cell_type": "markdown",
   "metadata": {
    "id": "trpWyKM6UecF"
   },
   "source": [
    "What are the meaning of these variables?\n",
    "\n",
    "TRANSACTION TABLE\n",
    "Categorical Features:\n",
    "- TransactionDT: timedelta from a given reference datetime \n",
    "             (not an actual timestamp)\n",
    "- TransactionAMT: transaction payment amount in USD\n",
    "- ProductCD: product code, the product for each transaction\n",
    "- card1 - card6: payment card information, such as card type, \n",
    "               card category, issue bank, country, etc.\n",
    "- addr: address\n",
    "- dist: distance\n",
    "- P_ and (R__) emaildomain: purchaser and recipient email domain\n",
    "- C1-C14: counting, such as how many addresses are found to be \n",
    "          associated with the payment card, etc. The actual meaning \n",
    "          is masked.\n",
    "- D1-D15: timedelta, such as days between previous transaction, \n",
    "          etc.\n",
    "- M1-M9: match, such as names on card and address, etc.\n",
    "- Vxxx: Vesta engineered rich features, including ranking, \n",
    "        counting, and other entity relations.\n",
    "\n",
    "IDENTITY TABLE\n",
    "Variables in this table are identity information – network \n",
    "connection information (IP, ISP, Proxy, etc) and digital \n",
    "signature (UA/browser/os/version, etc) associated with \n",
    "transactions.\n",
    "They're collected by Vesta’s fraud protection system and digital \n",
    "security partners.\n",
    "(The field names are masked and pairwise dictionary will not be \n",
    "provided for privacy protection and contract agreement)\n",
    "\n",
    "Categorical Features:\n",
    "DeviceType\n",
    "DeviceInfo\n",
    "id_12 - id_38\n",
    "\n",
    "Before understanding what model to use it is important to know:\n",
    "1. What type of data do we have?\n"
   ]
  },
  {
   "cell_type": "code",
   "execution_count": 8,
   "metadata": {
    "colab": {
     "base_uri": "https://localhost:8080/",
     "height": 90
    },
    "id": "6DehGDJ9UecF",
    "outputId": "db6357ee-6e04-4dd1-f569-378555d32a39"
   },
   "outputs": [
    {
     "data": {
      "text/plain": [
       "\"\\ndef explore_contionus_data(col):\\n    plt.hist(train[col], bins=77)\\n    plt.title(f'Distribution of {col} variable')\\n    plt.ylabel('Quantity')\\n    plt.xlabel('Value Type')\\n    plt.show()\\n    print(f'Metrics for col {col}')\\n    print(train[col].value_counts(dropna=False, normalize=True).head())\\n    print('-------------------------------------')\\n    return True\\n    \""
      ]
     },
     "execution_count": 8,
     "metadata": {},
     "output_type": "execute_result"
    }
   ],
   "source": [
    "'''\n",
    "Function: explore_id01_id11(col)\n",
    "\n",
    "Purpose: The point of this function is to be able to understand \n",
    "         the indentity information. Id_01 - Id_11 are continous\n",
    "         values\n",
    "\n",
    "Explanation:\n",
    "        1. Why we use a histogram?\n",
    "        \n",
    "        2. Why do we count the type of parameters that these \n",
    "           cols have.\n",
    "\n",
    "Parameters: col, string, column name\n",
    "\n",
    "Return: True, this is just for formality   \n",
    "'''\n",
    "'''\n",
    "def explore_contionus_data(col):\n",
    "    plt.hist(train[col], bins=77)\n",
    "    plt.title(f'Distribution of {col} variable')\n",
    "    plt.ylabel('Quantity')\n",
    "    plt.xlabel('Value Type')\n",
    "    plt.show()\n",
    "    print(f'Metrics for col {col}')\n",
    "    print(train[col].value_counts(dropna=False, normalize=True).head())\n",
    "    print('-------------------------------------')\n",
    "    return True\n",
    "    '''"
   ]
  },
  {
   "cell_type": "code",
   "execution_count": 9,
   "metadata": {
    "colab": {
     "base_uri": "https://localhost:8080/",
     "height": 90
    },
    "id": "3iSJcdpIUecG",
    "outputId": "b4962672-e71f-4a71-cd9e-fd6c183a8a6c"
   },
   "outputs": [
    {
     "data": {
      "text/plain": [
       "\"\\nexplore_contionus_data('id_01')\\nexplore_contionus_data('id_02')\\nexplore_contionus_data('id_03')\\nexplore_contionus_data('id_04')\\nexplore_contionus_data('id_05')\\nexplore_contionus_data('id_06')\\nexplore_contionus_data('id_07')\\nexplore_contionus_data('id_08')\\nexplore_contionus_data('id_09')\\nexplore_contionus_data('id_10')\\nexplore_contionus_data('id_11')\\n\""
      ]
     },
     "execution_count": 9,
     "metadata": {},
     "output_type": "execute_result"
    }
   ],
   "source": [
    "'''\n",
    "explore_contionus_data('id_01')\n",
    "explore_contionus_data('id_02')\n",
    "explore_contionus_data('id_03')\n",
    "explore_contionus_data('id_04')\n",
    "explore_contionus_data('id_05')\n",
    "explore_contionus_data('id_06')\n",
    "explore_contionus_data('id_07')\n",
    "explore_contionus_data('id_08')\n",
    "explore_contionus_data('id_09')\n",
    "explore_contionus_data('id_10')\n",
    "explore_contionus_data('id_11')\n",
    "'''"
   ]
  },
  {
   "cell_type": "code",
   "execution_count": 10,
   "metadata": {
    "colab": {
     "base_uri": "https://localhost:8080/",
     "height": 199
    },
    "id": "SS1rL-o8UecH",
    "outputId": "15ccab9a-7393-49de-f0d6-d3481875893f"
   },
   "outputs": [
    {
     "data": {
      "text/plain": [
       "\"\\ndef horizontal_col_chart(y_data, x_data, col_type):\\n    plt.barh(y_data, x_data)\\n    plt.show()\\n    plt.title(f'Counts of {col_type}')\\n    plt.ylabel('Count')\\n    plt.xlabel(f'{col_type}')\\n    return True\\n\\ndef vertical_col_chart(y_data, x_data, col_type):\\n    plt.bar(y_data, x_data)\\n    plt.show()\\n    plt.title(f'Counts of {col_type}')\\n    plt.ylabel(f'{col_type}')\\n    plt.yticks(rotation=90)\\n    plt.xlabel('Count')\\n    return True\\n    \\ndef explore_categorical_data(data_to_explore):\\n    for col in data_to_explore:\\n        feature_count = train[col].value_counts(dropna=False).reset_index().rename(columns={col: 'count', 'index': col})\\n        y_values = feature_count.iloc[:, 0] \\n        y_unique_values = len(y_values.value_counts())\\n        y_values = [str(y_value) for y_value in y_values]\\n        x_values = feature_count.iloc[:, 1]\\n        x_unique_values = len(x_values.value_counts())\\n        \\n        if (y_unique_values <= x_unique_values):\\n            horizontal_col_chart(y_values, x_values, col)\\n        else:\\n            vertical_col_chart(y_values, x_values, col)\\n            \\n    return True\\n\""
      ]
     },
     "execution_count": 10,
     "metadata": {},
     "output_type": "execute_result"
    }
   ],
   "source": [
    "'''\n",
    "def horizontal_col_chart(y_data, x_data, col_type):\n",
    "    plt.barh(y_data, x_data)\n",
    "    plt.show()\n",
    "    plt.title(f'Counts of {col_type}')\n",
    "    plt.ylabel('Count')\n",
    "    plt.xlabel(f'{col_type}')\n",
    "    return True\n",
    "\n",
    "def vertical_col_chart(y_data, x_data, col_type):\n",
    "    plt.bar(y_data, x_data)\n",
    "    plt.show()\n",
    "    plt.title(f'Counts of {col_type}')\n",
    "    plt.ylabel(f'{col_type}')\n",
    "    plt.yticks(rotation=90)\n",
    "    plt.xlabel('Count')\n",
    "    return True\n",
    "    \n",
    "def explore_categorical_data(data_to_explore):\n",
    "    for col in data_to_explore:\n",
    "        feature_count = train[col].value_counts(dropna=False).reset_index().rename(columns={col: 'count', 'index': col})\n",
    "        y_values = feature_count.iloc[:, 0] \n",
    "        y_unique_values = len(y_values.value_counts())\n",
    "        y_values = [str(y_value) for y_value in y_values]\n",
    "        x_values = feature_count.iloc[:, 1]\n",
    "        x_unique_values = len(x_values.value_counts())\n",
    "        \n",
    "        if (y_unique_values <= x_unique_values):\n",
    "            horizontal_col_chart(y_values, x_values, col)\n",
    "        else:\n",
    "            vertical_col_chart(y_values, x_values, col)\n",
    "            \n",
    "    return True\n",
    "'''\n",
    "\n"
   ]
  },
  {
   "cell_type": "code",
   "execution_count": 11,
   "metadata": {
    "id": "lq88b-cgUecH"
   },
   "outputs": [],
   "source": [
    "#explore_categorical_data(categorical_data_client_device_info)"
   ]
  },
  {
   "cell_type": "code",
   "execution_count": 12,
   "metadata": {
    "id": "So24ufJ-UecH"
   },
   "outputs": [],
   "source": [
    "#explore_categorical_data(categorical_data_cards)"
   ]
  },
  {
   "cell_type": "code",
   "execution_count": 13,
   "metadata": {
    "id": "zgMXMehPUecI"
   },
   "outputs": [],
   "source": [
    "#explore_categorical_data(categorical_data_domain)"
   ]
  },
  {
   "cell_type": "code",
   "execution_count": 14,
   "metadata": {
    "colab": {
     "base_uri": "https://localhost:8080/"
    },
    "id": "FMR2ATEkUecI",
    "outputId": "4e131f54-6b81-490f-9e09-47dfd6d3f80c"
   },
   "outputs": [
    {
     "name": "stdout",
     "output_type": "stream",
     "text": [
      "12\n",
      "10\n"
     ]
    }
   ],
   "source": [
    "many_null_cols = [col for col in train.columns if train[col].isnull().sum() / train.shape[0] > 0.9]\n",
    "print(len(many_null_cols))\n",
    "many_null_cols_test = [col for col in test.columns if test[col].isnull().sum() / test.shape[0] > 0.9]\n",
    "print(len(many_null_cols_test))"
   ]
  },
  {
   "cell_type": "code",
   "execution_count": 15,
   "metadata": {
    "colab": {
     "base_uri": "https://localhost:8080/"
    },
    "id": "h3FWS3KoUecI",
    "outputId": "77aa2fdc-2de0-4740-99be-7604e4711b4b"
   },
   "outputs": [
    {
     "name": "stdout",
     "output_type": "stream",
     "text": [
      "67\n",
      "79\n"
     ]
    }
   ],
   "source": [
    "#Get the columns that have mor ethan 90 of distinct values\n",
    "big_top_value_cols = [col for col in train.columns if train[col].value_counts(dropna=False, normalize=True).values[0] > 0.9]\n",
    "print(len(big_top_value_cols))\n",
    "big_top_value_cols_test = [col for col in test.columns if test[col].value_counts(dropna=False, normalize=True).values[0] > 0.9]\n",
    "print(len(big_top_value_cols_test))"
   ]
  },
  {
   "cell_type": "code",
   "execution_count": 16,
   "metadata": {
    "colab": {
     "base_uri": "https://localhost:8080/"
    },
    "id": "jHA3DaPPUecI",
    "outputId": "0c7adb46-e7fd-4cec-d2f7-0911ebf1e306"
   },
   "outputs": [
    {
     "name": "stdout",
     "output_type": "stream",
     "text": [
      "0\n",
      "1\n"
     ]
    }
   ],
   "source": [
    "one_value_cols = [col for col in train.columns if train[col].nunique() <= 1]\n",
    "print(len(one_value_cols))\n",
    "one_value_cols_test = [col for col in test.columns if test[col].nunique() <= 1]\n",
    "print(len(one_value_cols_test))"
   ]
  },
  {
   "cell_type": "code",
   "execution_count": 17,
   "metadata": {
    "colab": {
     "base_uri": "https://localhost:8080/"
    },
    "id": "BCL__4iSUecJ",
    "outputId": "1d978885-740c-48fa-d182-9b339b5c0515",
    "scrolled": true
   },
   "outputs": [
    {
     "name": "stdout",
     "output_type": "stream",
     "text": [
      "Cols to drop are  92\n",
      "['V301', 'V101', 'V290', 'V55', 'id-21', 'V286', 'isFraud', 'V68', 'V88', 'V136', 'V319', 'V66', 'V122', 'V133', 'id-25', 'V316', 'V298', 'V118', 'id_24', 'V104', 'id-23', 'V109', 'V106', 'id-24', 'V27', 'V284', 'V320', 'V110', 'V112', 'V26', 'id-26', 'id-27', 'id_25', 'V98', 'V134', 'V103', 'V28', 'V102', 'V113', 'V299', 'id_08', 'V108', 'V86', 'V135', 'V107', 'V111', 'V311', 'V281', 'V77', 'D7', 'id_07', 'V117', 'V119', 'V305', 'V129', 'V14', 'V125', 'V321', 'V123', 'V23', 'id-07', 'V65', 'V296', 'id_27', 'V120', 'id_23', 'C3', 'V89', 'V137', 'id_18', 'dist2', 'V297', 'V116', 'id-08', 'V25', 'V114', 'V121', 'V132', 'V293', 'V124', 'V295', 'V105', 'V318', 'V300', 'V24', 'id_26', 'V67', 'id-22', 'V115', 'id_21', 'V309', 'id_22']\n"
     ]
    }
   ],
   "source": [
    "cols_to_drop = list(set(many_null_cols + many_null_cols_test + big_top_value_cols + big_top_value_cols_test + one_value_cols + one_value_cols_test))\n",
    "print('Cols to drop are ', len(cols_to_drop))\n",
    "print(cols_to_drop)"
   ]
  },
  {
   "cell_type": "code",
   "execution_count": 18,
   "metadata": {
    "id": "4xNpZIUoUecJ"
   },
   "outputs": [],
   "source": [
    "for col in cols_to_drop:\n",
    "    \n",
    "    if col in train.columns:\n",
    "        train = train.drop(col, axis = 1)\n",
    "    \n",
    "    if col in test.columns:\n",
    "        test = test.drop(col, axis =1)\n",
    "    \n",
    "    else: \n",
    "        continue\n",
    "\n",
    "# train = train.drop('V332', axis = 1)\n",
    "#test = test.drop(cols_to_drop, axis = 1)"
   ]
  },
  {
   "cell_type": "code",
   "execution_count": 19,
   "metadata": {
    "colab": {
     "base_uri": "https://localhost:8080/"
    },
    "id": "b-zOW6OVUecJ",
    "outputId": "5f735762-e380-491d-8abc-742be0140d16"
   },
   "outputs": [
    {
     "name": "stdout",
     "output_type": "stream",
     "text": [
      "        TransactionID  TransactionDT  TransactionAmt ProductCD  card1  card2  \\\n",
      "0             2987000          86400           68.50         W  13926    NaN   \n",
      "1             2987001          86401           29.00         W   2755  404.0   \n",
      "2             2987002          86469           59.00         W   4663  490.0   \n",
      "3             2987003          86499           50.00         W  18132  567.0   \n",
      "4             2987004          86506           50.00         H   4497  514.0   \n",
      "...               ...            ...             ...       ...    ...    ...   \n",
      "590535        3577535       15811047           49.00         W   6550    NaN   \n",
      "590536        3577536       15811049           39.50         W  10444  225.0   \n",
      "590537        3577537       15811079           30.95         W  12037  595.0   \n",
      "590538        3577538       15811088          117.00         W   7826  481.0   \n",
      "590539        3577539       15811131          279.95         W  15066  170.0   \n",
      "\n",
      "        card3       card4  card5   card6  ...                id_31  id_32  \\\n",
      "0       150.0    discover  142.0  credit  ...                  NaN    NaN   \n",
      "1       150.0  mastercard  102.0  credit  ...                  NaN    NaN   \n",
      "2       150.0        visa  166.0   debit  ...                  NaN    NaN   \n",
      "3       150.0  mastercard  117.0   debit  ...                  NaN    NaN   \n",
      "4       150.0  mastercard  102.0  credit  ...  samsung browser 6.2   32.0   \n",
      "...       ...         ...    ...     ...  ...                  ...    ...   \n",
      "590535  150.0        visa  226.0   debit  ...                  NaN    NaN   \n",
      "590536  150.0  mastercard  224.0   debit  ...                  NaN    NaN   \n",
      "590537  150.0  mastercard  224.0   debit  ...                  NaN    NaN   \n",
      "590538  150.0  mastercard  224.0   debit  ...                  NaN    NaN   \n",
      "590539  150.0  mastercard  102.0  credit  ...                  NaN    NaN   \n",
      "\n",
      "            id_33           id_34 id_35  id_36  id_37  id_38  DeviceType  \\\n",
      "0             NaN             NaN   NaN    NaN    NaN    NaN         NaN   \n",
      "1             NaN             NaN   NaN    NaN    NaN    NaN         NaN   \n",
      "2             NaN             NaN   NaN    NaN    NaN    NaN         NaN   \n",
      "3             NaN             NaN   NaN    NaN    NaN    NaN         NaN   \n",
      "4       2220x1080  match_status:2     T      F      T      T      mobile   \n",
      "...           ...             ...   ...    ...    ...    ...         ...   \n",
      "590535        NaN             NaN   NaN    NaN    NaN    NaN         NaN   \n",
      "590536        NaN             NaN   NaN    NaN    NaN    NaN         NaN   \n",
      "590537        NaN             NaN   NaN    NaN    NaN    NaN         NaN   \n",
      "590538        NaN             NaN   NaN    NaN    NaN    NaN         NaN   \n",
      "590539        NaN             NaN   NaN    NaN    NaN    NaN         NaN   \n",
      "\n",
      "                           DeviceInfo  \n",
      "0                                 NaN  \n",
      "1                                 NaN  \n",
      "2                                 NaN  \n",
      "3                                 NaN  \n",
      "4       SAMSUNG SM-G892A Build/NRD90M  \n",
      "...                               ...  \n",
      "590535                            NaN  \n",
      "590536                            NaN  \n",
      "590537                            NaN  \n",
      "590538                            NaN  \n",
      "590539                            NaN  \n",
      "\n",
      "[590540 rows x 351 columns]\n"
     ]
    }
   ],
   "source": [
    "print(train)#print(train.columns)"
   ]
  },
  {
   "cell_type": "code",
   "execution_count": 20,
   "metadata": {},
   "outputs": [],
   "source": [
    "#test.to_csv(\"test.csv\",index=False)"
   ]
  },
  {
   "cell_type": "code",
   "execution_count": 21,
   "metadata": {
    "colab": {
     "base_uri": "https://localhost:8080/"
    },
    "id": "q1v5H6HAUecJ",
    "outputId": "42b41ea8-4a35-48f8-fe0e-3c30d1eff50c",
    "scrolled": true
   },
   "outputs": [
    {
     "name": "stdout",
     "output_type": "stream",
     "text": [
      "Index(['TransactionID', 'TransactionDT', 'TransactionAmt', 'ProductCD',\n",
      "       'card1', 'card2', 'card3', 'card4', 'card5', 'card6',\n",
      "       ...\n",
      "       'id-31', 'id-32', 'id-33', 'id-34', 'id-35', 'id-36', 'id-37', 'id-38',\n",
      "       'DeviceType', 'DeviceInfo'],\n",
      "      dtype='object', length=352)\n"
     ]
    }
   ],
   "source": [
    "print(test.columns)"
   ]
  },
  {
   "cell_type": "code",
   "execution_count": 22,
   "metadata": {
    "id": "N-K94XirUecK"
   },
   "outputs": [],
   "source": [
    "# cat_cols = ['id_12', 'id_13', 'id_14', 'id_15', 'id_16', 'id_17', 'id_18', 'id_19', 'id_20', 'id_21', 'id_22', 'id_23', 'id_24', 'id_25', 'id_26', 'id_27', 'id_28', 'id_29',\n",
    "#             'id_30', 'id_31', 'id_32', 'id_33', 'id_34', 'id_35', 'id_36', 'id_37', 'id_38', 'DeviceType', 'DeviceInfo', 'ProductCD', 'card4', 'card6', 'M4','P_emaildomain',\n",
    "#             'R_emaildomain', 'card1', 'card2', 'card3',  'card5', 'addr1', 'addr2', 'M1', 'M2', 'M3', 'M5', 'M6', 'M7', 'M8', 'M9',\n",
    "#             'P_emaildomain_1', 'P_emaildomain_2', 'P_emaildomain_3', 'R_emaildomain_1', 'R_emaildomain_2', 'R_emaildomain_3']\n",
    "# for col in cat_cols:\n",
    "#     if col in train.columns:\n",
    "#         le = preprocessing.LabelEncoder()\n",
    "#         le.fit(list(train[col].astype(str).values) + list(test[col].astype(str).values))\n",
    "#         train[col] = le.transform(list(train[col].astype(str).values))\n",
    "#         test[col] = le.transform(list(test[col].astype(str).values)) \n",
    "\n",
    "# X = train.sort_values('TransactionDT').drop(['isFraud', 'TransactionDT', 'TransactionID'], axis=1)\n",
    "# y = train.sort_values('TransactionDT')['isFraud']\n",
    "# #X_test = test.sort_values('TransactionDT').drop(['TransactionDT', 'TransactionID'], axis=1)\n",
    "# X_test = test.drop(['TransactionDT', 'TransactionID'], axis=1)\n",
    "# del train\n",
    "# test = test[[\"TransactionDT\", 'TransactionID']]\n",
    "\n",
    "# def clean_inf_nan(df):\n",
    "#     return df.replace([np.inf, -np.inf], np.nan)   \n",
    "\n",
    "# # Cleaning infinite values to NaN\n",
    "# X = clean_inf_nan(X)\n",
    "# X_test = clean_inf_nan(X_test )"
   ]
  },
  {
   "cell_type": "code",
   "execution_count": 23,
   "metadata": {
    "colab": {
     "base_uri": "https://localhost:8080/",
     "height": 244
    },
    "id": "kd0iEVx7G5rT",
    "outputId": "c0480eb8-9046-4f63-b3bd-d1d5330bc78a"
   },
   "outputs": [
    {
     "name": "stdout",
     "output_type": "stream",
     "text": [
      "        TransactionID  TransactionDT  TransactionAmt ProductCD  card1  card2  \\\n",
      "0             2987000          86400           68.50         W  13926    0.0   \n",
      "1             2987001          86401           29.00         W   2755  404.0   \n",
      "2             2987002          86469           59.00         W   4663  490.0   \n",
      "3             2987003          86499           50.00         W  18132  567.0   \n",
      "4             2987004          86506           50.00         H   4497  514.0   \n",
      "...               ...            ...             ...       ...    ...    ...   \n",
      "590535        3577535       15811047           49.00         W   6550    0.0   \n",
      "590536        3577536       15811049           39.50         W  10444  225.0   \n",
      "590537        3577537       15811079           30.95         W  12037  595.0   \n",
      "590538        3577538       15811088          117.00         W   7826  481.0   \n",
      "590539        3577539       15811131          279.95         W  15066  170.0   \n",
      "\n",
      "        card3       card4  card5   card6  ...                id_31  id_32  \\\n",
      "0       150.0    discover  142.0  credit  ...                   NA    0.0   \n",
      "1       150.0  mastercard  102.0  credit  ...                   NA    0.0   \n",
      "2       150.0        visa  166.0   debit  ...                   NA    0.0   \n",
      "3       150.0  mastercard  117.0   debit  ...                   NA    0.0   \n",
      "4       150.0  mastercard  102.0  credit  ...  samsung browser 6.2   32.0   \n",
      "...       ...         ...    ...     ...  ...                  ...    ...   \n",
      "590535  150.0        visa  226.0   debit  ...                   NA    0.0   \n",
      "590536  150.0  mastercard  224.0   debit  ...                   NA    0.0   \n",
      "590537  150.0  mastercard  224.0   debit  ...                   NA    0.0   \n",
      "590538  150.0  mastercard  224.0   debit  ...                   NA    0.0   \n",
      "590539  150.0  mastercard  102.0  credit  ...                   NA    0.0   \n",
      "\n",
      "            id_33           id_34 id_35  id_36  id_37  id_38  DeviceType  \\\n",
      "0              NA              NA    NA     NA     NA     NA          NA   \n",
      "1              NA              NA    NA     NA     NA     NA          NA   \n",
      "2              NA              NA    NA     NA     NA     NA          NA   \n",
      "3              NA              NA    NA     NA     NA     NA          NA   \n",
      "4       2220x1080  match_status:2     T      F      T      T      mobile   \n",
      "...           ...             ...   ...    ...    ...    ...         ...   \n",
      "590535         NA              NA    NA     NA     NA     NA          NA   \n",
      "590536         NA              NA    NA     NA     NA     NA          NA   \n",
      "590537         NA              NA    NA     NA     NA     NA          NA   \n",
      "590538         NA              NA    NA     NA     NA     NA          NA   \n",
      "590539         NA              NA    NA     NA     NA     NA          NA   \n",
      "\n",
      "                           DeviceInfo  \n",
      "0                                  NA  \n",
      "1                                  NA  \n",
      "2                                  NA  \n",
      "3                                  NA  \n",
      "4       SAMSUNG SM-G892A Build/NRD90M  \n",
      "...                               ...  \n",
      "590535                             NA  \n",
      "590536                             NA  \n",
      "590537                             NA  \n",
      "590538                             NA  \n",
      "590539                             NA  \n",
      "\n",
      "[590540 rows x 351 columns]\n"
     ]
    },
    {
     "data": {
      "text/plain": [
       "'train.to_csv(\"train.csv\",index=False)\\ntrain_y.to_csv(\"train_y.csv\",index=False)\\ntest.to_csv(\"test.csv\",index=False)'"
      ]
     },
     "execution_count": 23,
     "metadata": {},
     "output_type": "execute_result"
    }
   ],
   "source": [
    "train[\"card1\"] = train[\"card1\"].fillna(0)\n",
    "train[\"card2\"] = train[\"card2\"].fillna(0)\n",
    "train[\"card3\"] = train[\"card3\"].fillna(0)\n",
    "train[\"card4\"] = train[\"card4\"].fillna(\"NA\")\n",
    "train[\"card5\"] = train[\"card5\"].fillna(0)\n",
    "train[\"card6\"] = train[\"card6\"].fillna(\"NA\")\n",
    "train[\"P_emaildomain\"] = train[\"P_emaildomain\"].fillna(\"NA\")\n",
    "train[\"R_emaildomain\"] = train[\"R_emaildomain\"].fillna(\"NA\")\n",
    "train[\"id_12\"] = train[\"id_12\"].fillna(\"NA\")\n",
    "train[\"id_13\"] = train[\"id_13\"].fillna(\"NA\")\n",
    "train[\"id_14\"] = train[\"id_14\"].fillna(0)\n",
    "train[\"id_15\"] = train[\"id_15\"].fillna(\"NA\")\n",
    "train[\"id_16\"] = train[\"id_16\"].fillna(\"NA\")\n",
    "train[\"id_17\"] = train[\"id_17\"].fillna(0)\n",
    "train[\"id_19\"] = train[\"id_19\"].fillna(0)\n",
    "train[\"id_20\"] = train[\"id_20\"].fillna(0)\n",
    "train[\"id_28\"] = train[\"id_28\"].fillna(\"NA\")\n",
    "train[\"id_29\"] = train[\"id_29\"].fillna(\"NA\")\n",
    "train[\"id_30\"] = train[\"id_30\"].fillna(\"NA\")\n",
    "train[\"id_31\"] = train[\"id_31\"].fillna(\"NA\")\n",
    "train[\"id_32\"] = train[\"id_32\"].fillna(0)\n",
    "train[\"id_33\"] = train[\"id_33\"].fillna(\"NA\")\n",
    "train[\"id_34\"] = train[\"id_34\"].fillna(\"NA\")\n",
    "train[\"id_35\"] = train[\"id_35\"].fillna(\"NA\")\n",
    "train[\"id_36\"] = train[\"id_36\"].fillna(\"NA\")\n",
    "train[\"id_37\"] = train[\"id_37\"].fillna(\"NA\")\n",
    "train[\"id_38\"] = train[\"id_38\"].fillna(\"NA\")\n",
    "train[\"DeviceType\"] = train[\"DeviceType\"].fillna(\"NA\")\n",
    "train[\"DeviceInfo\"] = train[\"DeviceInfo\"].fillna(\"NA\")\n",
    "train[\"ProductCD\"] = train[\"ProductCD\"].fillna(\"NA\")\n",
    "train[\"M1\"] = train[\"M1\"].fillna(\"NA\")\n",
    "train[\"M2\"] = train[\"M2\"].fillna(\"NA\")\n",
    "train[\"M3\"] = train[\"M3\"].fillna(\"NA\")\n",
    "train[\"M4\"] = train[\"M4\"].fillna(\"NA\")\n",
    "train[\"M5\"] = train[\"M5\"].fillna(\"NA\")\n",
    "train[\"M6\"] = train[\"M6\"].fillna(\"NA\")\n",
    "train[\"M7\"] = train[\"M7\"].fillna(\"NA\")\n",
    "train[\"M8\"] = train[\"M8\"].fillna(\"NA\")\n",
    "train[\"M9\"] = train[\"M9\"].fillna(\"NA\")\n",
    "train[\"addr1\"] = train[\"addr1\"].fillna(0)\n",
    "train[\"addr2\"] = train[\"addr2\"].fillna(0)\n",
    "\n",
    "\n",
    "print(train)\n",
    "'''train.to_csv(\"train.csv\",index=False)\n",
    "train_y.to_csv(\"train_y.csv\",index=False)\n",
    "test.to_csv(\"test.csv\",index=False)'''\n"
   ]
  },
  {
   "cell_type": "code",
   "execution_count": 24,
   "metadata": {
    "id": "mGPVJvR7UecK"
   },
   "outputs": [],
   "source": [
    "'''\n",
    "from xgboost import XGBRegressor, XGBClassifier #maybe split train further?\n",
    "model = XGBRegressor()\n",
    "model.fit(train, train_y)\n",
    "prediction = model.predict_proba(test)\n",
    "print(prediction)\n",
    "'''\n",
    "import xgboost as xgb\n",
    "from sklearn.preprocessing import OneHotEncoder\n",
    "train1 = train#Split[0]\n",
    "cat_cols = ['id_12', 'id_13', 'id_14', 'id_15', 'id_16', 'id_17', 'id_19', 'id_20', 'id_28', 'id_29',\n",
    "             'id_30', 'id_31', 'id_32', 'id_33', 'id_34', 'id_35', 'id_36', 'id_37', 'id_38', 'DeviceType', 'DeviceInfo', 'ProductCD', 'card4', 'card6', 'M4','P_emaildomain',\n",
    "             'R_emaildomain', 'card1', 'card2', 'card3',  'card5', 'addr1', 'addr2', 'M1', 'M2', 'M3', 'M5', 'M6', 'M7', 'M8', 'M9'\n",
    "             ]\n",
    "\n",
    "train1 = pd.get_dummies(data=train, columns=cat_cols)\n",
    "\n",
    "for col in cat_cols:\n",
    "    \n",
    "    if col in train1.columns:\n",
    "        train1 = train1.drop(col, axis = 1)\n",
    "    else: \n",
    "        continue\n"
   ]
  },
  {
   "cell_type": "code",
   "execution_count": 25,
   "metadata": {
    "colab": {
     "base_uri": "https://localhost:8080/"
    },
    "id": "i4IDFheE_cln",
    "outputId": "0efc0f6b-2805-4543-8bf5-73c10327857c"
   },
   "outputs": [
    {
     "name": "stdout",
     "output_type": "stream",
     "text": [
      "        TransactionID  TransactionDT  TransactionAmt  dist1   C1   C2   C4  \\\n",
      "0             2987000          86400           68.50   19.0  1.0  1.0  0.0   \n",
      "1             2987001          86401           29.00    NaN  1.0  1.0  0.0   \n",
      "2             2987002          86469           59.00  287.0  1.0  1.0  0.0   \n",
      "3             2987003          86499           50.00    NaN  2.0  5.0  0.0   \n",
      "4             2987004          86506           50.00    NaN  1.0  1.0  0.0   \n",
      "...               ...            ...             ...    ...  ...  ...  ...   \n",
      "590535        3577535       15811047           49.00   48.0  2.0  1.0  0.0   \n",
      "590536        3577536       15811049           39.50    NaN  1.0  1.0  0.0   \n",
      "590537        3577537       15811079           30.95    NaN  1.0  1.0  0.0   \n",
      "590538        3577538       15811088          117.00    3.0  1.0  1.0  0.0   \n",
      "590539        3577539       15811131          279.95    NaN  2.0  1.0  0.0   \n",
      "\n",
      "         C5   C6   C7  ...  M6_T  M7_F  M7_NA  M7_T  M8_F  M8_NA  M8_T  M9_F  \\\n",
      "0       0.0  1.0  0.0  ...     1     0      1     0     0      1     0     0   \n",
      "1       0.0  1.0  0.0  ...     1     0      1     0     0      1     0     0   \n",
      "2       0.0  1.0  0.0  ...     0     1      0     0     1      0     0     1   \n",
      "3       0.0  4.0  0.0  ...     0     0      1     0     0      1     0     0   \n",
      "4       0.0  1.0  0.0  ...     0     0      1     0     0      1     0     0   \n",
      "...     ...  ...  ...  ...   ...   ...    ...   ...   ...    ...   ...   ...   \n",
      "590535  1.0  0.0  0.0  ...     0     1      0     0     1      0     0     0   \n",
      "590536  0.0  1.0  0.0  ...     1     1      0     0     1      0     0     1   \n",
      "590537  1.0  1.0  0.0  ...     1     0      1     0     0      1     0     0   \n",
      "590538  0.0  3.0  0.0  ...     1     0      1     0     0      1     0     0   \n",
      "590539  1.0  1.0  0.0  ...     1     1      0     0     1      0     0     1   \n",
      "\n",
      "        M9_NA  M9_T  \n",
      "0           1     0  \n",
      "1           1     0  \n",
      "2           0     0  \n",
      "3           1     0  \n",
      "4           1     0  \n",
      "...       ...   ...  \n",
      "590535      0     1  \n",
      "590536      0     0  \n",
      "590537      1     0  \n",
      "590538      1     0  \n",
      "590539      0     0  \n",
      "\n",
      "[590540 rows x 18569 columns]\n"
     ]
    }
   ],
   "source": [
    "print(train1)"
   ]
  },
  {
   "cell_type": "markdown",
   "metadata": {},
   "source": [
    "So run everything above up to here. Run the below cell to generate and save the model."
   ]
  },
  {
   "cell_type": "code",
   "execution_count": 26,
   "metadata": {
    "id": "oXqat8tmvIeu"
   },
   "outputs": [
    {
     "name": "stdout",
     "output_type": "stream",
     "text": [
      "Be here.\n",
      "Be here too.\n",
      "[13:58:54] WARNING: C:/Users/Administrator/workspace/xgboost-win64_release_1.5.0/src/learner.cc:1115: Starting in XGBoost 1.3.0, the default evaluation metric used with the objective 'binary:logistic' was changed from 'error' to 'logloss'. Explicitly set eval_metric if you'd like to restore the old behavior.\n"
     ]
    }
   ],
   "source": [
    "from sklearn.model_selection import train_test_split\n",
    "X_train, X_test, Y_train, Y_test = train_test_split(train1, train_y, test_size=.7)\n",
    "del train1, train_y\n",
    "print(\"Be here.\")\n",
    "modelTrain = xgb.DMatrix(X_train, label=Y_train)\n",
    "\n",
    "print(\"Be here too.\")\n",
    "param = {\n",
    "    'eta': 0.1, \n",
    "    'max_depth': 8,  \n",
    "    'objective': 'binary:logistic'} \n",
    "\n",
    "steps = 20\n",
    "model = xgb.train(param, modelTrain, steps)\n",
    "model.save_model(\"model.txt\")"
   ]
  },
  {
   "cell_type": "markdown",
   "metadata": {},
   "source": [
    "After that, restart the kernel, ignore the above cell and run this one:\n",
    "(alternatively you can use the models I send you)"
   ]
  },
  {
   "cell_type": "code",
   "execution_count": 26,
   "metadata": {},
   "outputs": [
    {
     "name": "stdout",
     "output_type": "stream",
     "text": [
      "Be here.\n"
     ]
    },
    {
     "ename": "AttributeError",
     "evalue": "'Booster' object has no attribute 'predict_proba'",
     "output_type": "error",
     "traceback": [
      "\u001b[1;31m---------------------------------------------------------------------------\u001b[0m",
      "\u001b[1;31mAttributeError\u001b[0m                            Traceback (most recent call last)",
      "\u001b[1;32m<ipython-input-26-44eaaa138973>\u001b[0m in \u001b[0;36m<module>\u001b[1;34m\u001b[0m\n\u001b[0;32m     10\u001b[0m \u001b[1;32mdel\u001b[0m \u001b[0mX_train\u001b[0m\u001b[1;33m,\u001b[0m \u001b[0mX_test\u001b[0m\u001b[1;33m,\u001b[0m \u001b[0mY_train\u001b[0m\u001b[1;33m,\u001b[0m \u001b[0mY_test\u001b[0m\u001b[1;33m,\u001b[0m \u001b[0mX_train2\u001b[0m\u001b[1;33m,\u001b[0m \u001b[0mY_train2\u001b[0m\u001b[1;33m\u001b[0m\u001b[1;33m\u001b[0m\u001b[0m\n\u001b[0;32m     11\u001b[0m \u001b[0mmodelTest\u001b[0m \u001b[1;33m=\u001b[0m \u001b[0mxgb\u001b[0m\u001b[1;33m.\u001b[0m\u001b[0mDMatrix\u001b[0m\u001b[1;33m(\u001b[0m\u001b[0mX_test2\u001b[0m\u001b[1;33m,\u001b[0m\u001b[0mlabel\u001b[0m\u001b[1;33m=\u001b[0m\u001b[0mY_test2\u001b[0m\u001b[1;33m)\u001b[0m\u001b[1;33m\u001b[0m\u001b[1;33m\u001b[0m\u001b[0m\n\u001b[1;32m---> 12\u001b[1;33m \u001b[0my_pred\u001b[0m \u001b[1;33m=\u001b[0m \u001b[0mpd\u001b[0m\u001b[1;33m.\u001b[0m\u001b[0mDataFrame\u001b[0m\u001b[1;33m(\u001b[0m\u001b[0mmodel\u001b[0m\u001b[1;33m.\u001b[0m\u001b[0mpredict_proba\u001b[0m\u001b[1;33m(\u001b[0m\u001b[0mmodelTest\u001b[0m\u001b[1;33m)\u001b[0m\u001b[1;33m[\u001b[0m\u001b[1;33m:\u001b[0m\u001b[1;33m,\u001b[0m \u001b[1;36m1\u001b[0m\u001b[1;33m]\u001b[0m\u001b[1;33m,\u001b[0m \u001b[0mcolumns\u001b[0m \u001b[1;33m=\u001b[0m \u001b[1;33m[\u001b[0m\u001b[1;34m'isFraud'\u001b[0m\u001b[1;33m]\u001b[0m\u001b[1;33m)\u001b[0m\u001b[1;31m#set back to predict\u001b[0m\u001b[1;33m\u001b[0m\u001b[1;33m\u001b[0m\u001b[0m\n\u001b[0m\u001b[0;32m     13\u001b[0m \u001b[0my_pred\u001b[0m\u001b[1;33m.\u001b[0m\u001b[0mto_csv\u001b[0m\u001b[1;33m(\u001b[0m\u001b[1;34m\"y_predProb.csv\"\u001b[0m\u001b[1;33m,\u001b[0m\u001b[0mindex\u001b[0m\u001b[1;33m=\u001b[0m\u001b[1;32mFalse\u001b[0m\u001b[1;33m)\u001b[0m\u001b[1;33m\u001b[0m\u001b[1;33m\u001b[0m\u001b[0m\n\u001b[0;32m     14\u001b[0m \u001b[0mY_test2\u001b[0m \u001b[1;33m=\u001b[0m \u001b[0mpd\u001b[0m\u001b[1;33m.\u001b[0m\u001b[0mDataFrame\u001b[0m\u001b[1;33m(\u001b[0m\u001b[0mY_test2\u001b[0m\u001b[1;33m,\u001b[0m \u001b[0mcolumns\u001b[0m \u001b[1;33m=\u001b[0m \u001b[1;33m[\u001b[0m\u001b[1;34m'isFraud'\u001b[0m\u001b[1;33m]\u001b[0m\u001b[1;33m)\u001b[0m\u001b[1;33m\u001b[0m\u001b[1;33m\u001b[0m\u001b[0m\n",
      "\u001b[1;31mAttributeError\u001b[0m: 'Booster' object has no attribute 'predict_proba'"
     ]
    }
   ],
   "source": [
    "from sklearn.metrics import mean_squared_error\n",
    "\n",
    "from sklearn.model_selection import train_test_split\n",
    "X_train, X_test, Y_train, Y_test = train_test_split(train1, train_y, test_size=.7)\n",
    "del train1, train_y\n",
    "print(\"Be here.\")\n",
    "model = xgb.Booster()\n",
    "model.load_model(\"model.txt\")\n",
    "X_train2, X_test2, Y_train2, Y_test2 = train_test_split(X_test, Y_test, test_size=.5)\n",
    "del X_train, X_test, Y_train, Y_test, X_train2, Y_train2\n",
    "modelTest = xgb.DMatrix(X_test2,label=Y_test2)\n",
    "y_pred = pd.DataFrame(model.predict(modelTest), columns = ['isFraud'])#set back to predict\n",
    "y_pred.to_csv(\"y_pred.csv\",index=False)\n",
    "Y_test2 = pd.DataFrame(Y_test2, columns = ['isFraud'])\n",
    "Y_test2.to_csv(\"Y_test2.csv\",index=False)\n",
    "print(\"Be here too.\")\n",
    "model.save_model(\"modelTest.txt\")\n",
    "mse = mean_squared_error(y_pred, Y_test2)\n",
    "print(mse)"
   ]
  },
  {
   "cell_type": "code",
   "execution_count": 26,
   "metadata": {},
   "outputs": [
    {
     "name": "stdout",
     "output_type": "stream",
     "text": [
      "Be here.\n"
     ]
    }
   ],
   "source": [
    "'''from sklearn.model_selection import train_test_split\n",
    "X_train, X_test, Y_train, Y_test = train_test_split(train1, train_y, test_size=.7)\n",
    "del train1, train_y\n",
    "print(\"Be here.\")\n",
    "model = xgb.Booster()\n",
    "model.load_model(\"model.txt\")\n",
    "X_train2, X_test2, Y_train2, Y_test2 = train_test_split(X_test, Y_test, test_size=.5)\n",
    "del X_train, X_test, Y_train, Y_test\n",
    "modelTest = xgb.DMatrix(X_test2,label=Y_test2)\n",
    "model.predict(modelTest)\n",
    "model.save_model(\"modelTest.txt\")'''\n"
   ]
  },
  {
   "cell_type": "code",
   "execution_count": 27,
   "metadata": {},
   "outputs": [
    {
     "ename": "MemoryError",
     "evalue": "Unable to allocate 28.6 GiB for an array with shape (18569, 206689) and data type float64",
     "output_type": "error",
     "traceback": [
      "\u001b[1;31m---------------------------------------------------------------------------\u001b[0m",
      "\u001b[1;31mMemoryError\u001b[0m                               Traceback (most recent call last)",
      "\u001b[1;32m<ipython-input-27-ca80432e843a>\u001b[0m in \u001b[0;36m<module>\u001b[1;34m\u001b[0m\n\u001b[0;32m      1\u001b[0m \u001b[0mX_train2\u001b[0m\u001b[1;33m,\u001b[0m \u001b[0mX_test2\u001b[0m\u001b[1;33m,\u001b[0m \u001b[0mY_train2\u001b[0m\u001b[1;33m,\u001b[0m \u001b[0mY_test2\u001b[0m \u001b[1;33m=\u001b[0m \u001b[0mtrain_test_split\u001b[0m\u001b[1;33m(\u001b[0m\u001b[0mX_test\u001b[0m\u001b[1;33m,\u001b[0m \u001b[0mY_test\u001b[0m\u001b[1;33m,\u001b[0m \u001b[0mtest_size\u001b[0m\u001b[1;33m=\u001b[0m\u001b[1;36m.5\u001b[0m\u001b[1;33m)\u001b[0m\u001b[1;33m\u001b[0m\u001b[1;33m\u001b[0m\u001b[0m\n\u001b[1;32m----> 2\u001b[1;33m \u001b[0mmodelTest\u001b[0m \u001b[1;33m=\u001b[0m \u001b[0mxgb\u001b[0m\u001b[1;33m.\u001b[0m\u001b[0mDMatrix\u001b[0m\u001b[1;33m(\u001b[0m\u001b[0mX_test2\u001b[0m\u001b[1;33m,\u001b[0m\u001b[0mlabel\u001b[0m\u001b[1;33m=\u001b[0m\u001b[0mY_test2\u001b[0m\u001b[1;33m)\u001b[0m\u001b[1;33m\u001b[0m\u001b[1;33m\u001b[0m\u001b[0m\n\u001b[0m\u001b[0;32m      3\u001b[0m \u001b[0mmodel\u001b[0m\u001b[1;33m.\u001b[0m\u001b[0mpredict\u001b[0m\u001b[1;33m(\u001b[0m\u001b[0mmodelTest\u001b[0m\u001b[1;33m)\u001b[0m\u001b[1;33m\u001b[0m\u001b[1;33m\u001b[0m\u001b[0m\n",
      "\u001b[1;32m~\\Anaconda3\\lib\\site-packages\\xgboost\\core.py\u001b[0m in \u001b[0;36minner_f\u001b[1;34m(*args, **kwargs)\u001b[0m\n\u001b[0;32m    504\u001b[0m         \u001b[1;32mfor\u001b[0m \u001b[0mk\u001b[0m\u001b[1;33m,\u001b[0m \u001b[0marg\u001b[0m \u001b[1;32min\u001b[0m \u001b[0mzip\u001b[0m\u001b[1;33m(\u001b[0m\u001b[0msig\u001b[0m\u001b[1;33m.\u001b[0m\u001b[0mparameters\u001b[0m\u001b[1;33m,\u001b[0m \u001b[0margs\u001b[0m\u001b[1;33m)\u001b[0m\u001b[1;33m:\u001b[0m\u001b[1;33m\u001b[0m\u001b[1;33m\u001b[0m\u001b[0m\n\u001b[0;32m    505\u001b[0m             \u001b[0mkwargs\u001b[0m\u001b[1;33m[\u001b[0m\u001b[0mk\u001b[0m\u001b[1;33m]\u001b[0m \u001b[1;33m=\u001b[0m \u001b[0marg\u001b[0m\u001b[1;33m\u001b[0m\u001b[1;33m\u001b[0m\u001b[0m\n\u001b[1;32m--> 506\u001b[1;33m         \u001b[1;32mreturn\u001b[0m \u001b[0mf\u001b[0m\u001b[1;33m(\u001b[0m\u001b[1;33m**\u001b[0m\u001b[0mkwargs\u001b[0m\u001b[1;33m)\u001b[0m\u001b[1;33m\u001b[0m\u001b[1;33m\u001b[0m\u001b[0m\n\u001b[0m\u001b[0;32m    507\u001b[0m \u001b[1;33m\u001b[0m\u001b[0m\n\u001b[0;32m    508\u001b[0m     \u001b[1;32mreturn\u001b[0m \u001b[0minner_f\u001b[0m\u001b[1;33m\u001b[0m\u001b[1;33m\u001b[0m\u001b[0m\n",
      "\u001b[1;32m~\\Anaconda3\\lib\\site-packages\\xgboost\\core.py\u001b[0m in \u001b[0;36m__init__\u001b[1;34m(self, data, label, weight, base_margin, missing, silent, feature_names, feature_types, nthread, group, qid, label_lower_bound, label_upper_bound, feature_weights, enable_categorical)\u001b[0m\n\u001b[0;32m    614\u001b[0m             \u001b[1;32mreturn\u001b[0m\u001b[1;33m\u001b[0m\u001b[1;33m\u001b[0m\u001b[0m\n\u001b[0;32m    615\u001b[0m \u001b[1;33m\u001b[0m\u001b[0m\n\u001b[1;32m--> 616\u001b[1;33m         handle, feature_names, feature_types = dispatch_data_backend(\n\u001b[0m\u001b[0;32m    617\u001b[0m             \u001b[0mdata\u001b[0m\u001b[1;33m,\u001b[0m\u001b[1;33m\u001b[0m\u001b[1;33m\u001b[0m\u001b[0m\n\u001b[0;32m    618\u001b[0m             \u001b[0mmissing\u001b[0m\u001b[1;33m=\u001b[0m\u001b[0mself\u001b[0m\u001b[1;33m.\u001b[0m\u001b[0mmissing\u001b[0m\u001b[1;33m,\u001b[0m\u001b[1;33m\u001b[0m\u001b[1;33m\u001b[0m\u001b[0m\n",
      "\u001b[1;32m~\\Anaconda3\\lib\\site-packages\\xgboost\\data.py\u001b[0m in \u001b[0;36mdispatch_data_backend\u001b[1;34m(data, missing, threads, feature_names, feature_types, enable_categorical)\u001b[0m\n\u001b[0;32m    705\u001b[0m         \u001b[1;32mreturn\u001b[0m \u001b[0m_from_tuple\u001b[0m\u001b[1;33m(\u001b[0m\u001b[0mdata\u001b[0m\u001b[1;33m,\u001b[0m \u001b[0mmissing\u001b[0m\u001b[1;33m,\u001b[0m \u001b[0mthreads\u001b[0m\u001b[1;33m,\u001b[0m \u001b[0mfeature_names\u001b[0m\u001b[1;33m,\u001b[0m \u001b[0mfeature_types\u001b[0m\u001b[1;33m)\u001b[0m\u001b[1;33m\u001b[0m\u001b[1;33m\u001b[0m\u001b[0m\n\u001b[0;32m    706\u001b[0m     \u001b[1;32mif\u001b[0m \u001b[0m_is_pandas_df\u001b[0m\u001b[1;33m(\u001b[0m\u001b[0mdata\u001b[0m\u001b[1;33m)\u001b[0m\u001b[1;33m:\u001b[0m\u001b[1;33m\u001b[0m\u001b[1;33m\u001b[0m\u001b[0m\n\u001b[1;32m--> 707\u001b[1;33m         return _from_pandas_df(data, enable_categorical, missing, threads,\n\u001b[0m\u001b[0;32m    708\u001b[0m                                feature_names, feature_types)\n\u001b[0;32m    709\u001b[0m     \u001b[1;32mif\u001b[0m \u001b[0m_is_pandas_series\u001b[0m\u001b[1;33m(\u001b[0m\u001b[0mdata\u001b[0m\u001b[1;33m)\u001b[0m\u001b[1;33m:\u001b[0m\u001b[1;33m\u001b[0m\u001b[1;33m\u001b[0m\u001b[0m\n",
      "\u001b[1;32m~\\Anaconda3\\lib\\site-packages\\xgboost\\data.py\u001b[0m in \u001b[0;36m_from_pandas_df\u001b[1;34m(data, enable_categorical, missing, nthread, feature_names, feature_types)\u001b[0m\n\u001b[0;32m    295\u001b[0m     \u001b[0mfeature_types\u001b[0m\u001b[1;33m:\u001b[0m \u001b[0mOptional\u001b[0m\u001b[1;33m[\u001b[0m\u001b[0mList\u001b[0m\u001b[1;33m[\u001b[0m\u001b[0mstr\u001b[0m\u001b[1;33m]\u001b[0m\u001b[1;33m]\u001b[0m\u001b[1;33m,\u001b[0m\u001b[1;33m\u001b[0m\u001b[1;33m\u001b[0m\u001b[0m\n\u001b[0;32m    296\u001b[0m ):\n\u001b[1;32m--> 297\u001b[1;33m     data, feature_names, feature_types = _transform_pandas_df(\n\u001b[0m\u001b[0;32m    298\u001b[0m         data, enable_categorical, feature_names, feature_types)\n\u001b[0;32m    299\u001b[0m     return _from_numpy_array(data, missing, nthread, feature_names,\n",
      "\u001b[1;32m~\\Anaconda3\\lib\\site-packages\\xgboost\\data.py\u001b[0m in \u001b[0;36m_transform_pandas_df\u001b[1;34m(data, enable_categorical, feature_names, feature_types, meta, meta_type)\u001b[0m\n\u001b[0;32m    281\u001b[0m \u001b[1;33m\u001b[0m\u001b[0m\n\u001b[0;32m    282\u001b[0m     \u001b[0mdtype\u001b[0m \u001b[1;33m=\u001b[0m \u001b[0mmeta_type\u001b[0m \u001b[1;32mif\u001b[0m \u001b[0mmeta_type\u001b[0m \u001b[1;32melse\u001b[0m \u001b[0mnp\u001b[0m\u001b[1;33m.\u001b[0m\u001b[0mfloat32\u001b[0m\u001b[1;33m\u001b[0m\u001b[1;33m\u001b[0m\u001b[0m\n\u001b[1;32m--> 283\u001b[1;33m     \u001b[0marr\u001b[0m \u001b[1;33m=\u001b[0m \u001b[0mtransformed\u001b[0m\u001b[1;33m.\u001b[0m\u001b[0mvalues\u001b[0m\u001b[1;33m\u001b[0m\u001b[1;33m\u001b[0m\u001b[0m\n\u001b[0m\u001b[0;32m    284\u001b[0m     \u001b[1;32mif\u001b[0m \u001b[0mmeta_type\u001b[0m\u001b[1;33m:\u001b[0m\u001b[1;33m\u001b[0m\u001b[1;33m\u001b[0m\u001b[0m\n\u001b[0;32m    285\u001b[0m         \u001b[0marr\u001b[0m \u001b[1;33m=\u001b[0m \u001b[0marr\u001b[0m\u001b[1;33m.\u001b[0m\u001b[0mastype\u001b[0m\u001b[1;33m(\u001b[0m\u001b[0mmeta_type\u001b[0m\u001b[1;33m)\u001b[0m\u001b[1;33m\u001b[0m\u001b[1;33m\u001b[0m\u001b[0m\n",
      "\u001b[1;32m~\\Anaconda3\\lib\\site-packages\\pandas\\core\\generic.py\u001b[0m in \u001b[0;36mvalues\u001b[1;34m(self)\u001b[0m\n\u001b[0;32m   5671\u001b[0m         \"\"\"\n\u001b[0;32m   5672\u001b[0m         \u001b[0mself\u001b[0m\u001b[1;33m.\u001b[0m\u001b[0m_consolidate_inplace\u001b[0m\u001b[1;33m(\u001b[0m\u001b[1;33m)\u001b[0m\u001b[1;33m\u001b[0m\u001b[1;33m\u001b[0m\u001b[0m\n\u001b[1;32m-> 5673\u001b[1;33m         \u001b[1;32mreturn\u001b[0m \u001b[0mself\u001b[0m\u001b[1;33m.\u001b[0m\u001b[0m_mgr\u001b[0m\u001b[1;33m.\u001b[0m\u001b[0mas_array\u001b[0m\u001b[1;33m(\u001b[0m\u001b[0mtranspose\u001b[0m\u001b[1;33m=\u001b[0m\u001b[0mself\u001b[0m\u001b[1;33m.\u001b[0m\u001b[0m_AXIS_REVERSED\u001b[0m\u001b[1;33m)\u001b[0m\u001b[1;33m\u001b[0m\u001b[1;33m\u001b[0m\u001b[0m\n\u001b[0m\u001b[0;32m   5674\u001b[0m \u001b[1;33m\u001b[0m\u001b[0m\n\u001b[0;32m   5675\u001b[0m     \u001b[1;33m@\u001b[0m\u001b[0mproperty\u001b[0m\u001b[1;33m\u001b[0m\u001b[1;33m\u001b[0m\u001b[0m\n",
      "\u001b[1;32m~\\Anaconda3\\lib\\site-packages\\pandas\\core\\internals\\managers.py\u001b[0m in \u001b[0;36mas_array\u001b[1;34m(self, transpose, dtype, copy, na_value)\u001b[0m\n\u001b[0;32m    870\u001b[0m                     \u001b[0marr\u001b[0m \u001b[1;33m=\u001b[0m \u001b[0marr\u001b[0m\u001b[1;33m.\u001b[0m\u001b[0mastype\u001b[0m\u001b[1;33m(\u001b[0m\u001b[0mdtype\u001b[0m\u001b[1;33m,\u001b[0m \u001b[0mcopy\u001b[0m\u001b[1;33m=\u001b[0m\u001b[1;32mFalse\u001b[0m\u001b[1;33m)\u001b[0m\u001b[1;33m\u001b[0m\u001b[1;33m\u001b[0m\u001b[0m\n\u001b[0;32m    871\u001b[0m         \u001b[1;32melse\u001b[0m\u001b[1;33m:\u001b[0m\u001b[1;33m\u001b[0m\u001b[1;33m\u001b[0m\u001b[0m\n\u001b[1;32m--> 872\u001b[1;33m             \u001b[0marr\u001b[0m \u001b[1;33m=\u001b[0m \u001b[0mself\u001b[0m\u001b[1;33m.\u001b[0m\u001b[0m_interleave\u001b[0m\u001b[1;33m(\u001b[0m\u001b[0mdtype\u001b[0m\u001b[1;33m=\u001b[0m\u001b[0mdtype\u001b[0m\u001b[1;33m,\u001b[0m \u001b[0mna_value\u001b[0m\u001b[1;33m=\u001b[0m\u001b[0mna_value\u001b[0m\u001b[1;33m)\u001b[0m\u001b[1;33m\u001b[0m\u001b[1;33m\u001b[0m\u001b[0m\n\u001b[0m\u001b[0;32m    873\u001b[0m             \u001b[1;31m# The underlying data was copied within _interleave\u001b[0m\u001b[1;33m\u001b[0m\u001b[1;33m\u001b[0m\u001b[1;33m\u001b[0m\u001b[0m\n\u001b[0;32m    874\u001b[0m             \u001b[0mcopy\u001b[0m \u001b[1;33m=\u001b[0m \u001b[1;32mFalse\u001b[0m\u001b[1;33m\u001b[0m\u001b[1;33m\u001b[0m\u001b[0m\n",
      "\u001b[1;32m~\\Anaconda3\\lib\\site-packages\\pandas\\core\\internals\\managers.py\u001b[0m in \u001b[0;36m_interleave\u001b[1;34m(self, dtype, na_value)\u001b[0m\n\u001b[0;32m    899\u001b[0m             \u001b[0mdtype\u001b[0m \u001b[1;33m=\u001b[0m \u001b[1;34m\"object\"\u001b[0m\u001b[1;33m\u001b[0m\u001b[1;33m\u001b[0m\u001b[0m\n\u001b[0;32m    900\u001b[0m \u001b[1;33m\u001b[0m\u001b[0m\n\u001b[1;32m--> 901\u001b[1;33m         \u001b[0mresult\u001b[0m \u001b[1;33m=\u001b[0m \u001b[0mnp\u001b[0m\u001b[1;33m.\u001b[0m\u001b[0mempty\u001b[0m\u001b[1;33m(\u001b[0m\u001b[0mself\u001b[0m\u001b[1;33m.\u001b[0m\u001b[0mshape\u001b[0m\u001b[1;33m,\u001b[0m \u001b[0mdtype\u001b[0m\u001b[1;33m=\u001b[0m\u001b[0mdtype\u001b[0m\u001b[1;33m)\u001b[0m\u001b[1;33m\u001b[0m\u001b[1;33m\u001b[0m\u001b[0m\n\u001b[0m\u001b[0;32m    902\u001b[0m \u001b[1;33m\u001b[0m\u001b[0m\n\u001b[0;32m    903\u001b[0m         \u001b[0mitemmask\u001b[0m \u001b[1;33m=\u001b[0m \u001b[0mnp\u001b[0m\u001b[1;33m.\u001b[0m\u001b[0mzeros\u001b[0m\u001b[1;33m(\u001b[0m\u001b[0mself\u001b[0m\u001b[1;33m.\u001b[0m\u001b[0mshape\u001b[0m\u001b[1;33m[\u001b[0m\u001b[1;36m0\u001b[0m\u001b[1;33m]\u001b[0m\u001b[1;33m)\u001b[0m\u001b[1;33m\u001b[0m\u001b[1;33m\u001b[0m\u001b[0m\n",
      "\u001b[1;31mMemoryError\u001b[0m: Unable to allocate 28.6 GiB for an array with shape (18569, 206689) and data type float64"
     ]
    }
   ],
   "source": [
    "'''X_train2, X_test2, Y_train2, Y_test2 = train_test_split(X_test, Y_test, test_size=.5)\n",
    "modelTest = xgb.DMatrix(X_test2,label=Y_test2)\n",
    "model.predict(modelTest)'''\n"
   ]
  },
  {
   "cell_type": "code",
   "execution_count": 1,
   "metadata": {},
   "outputs": [
    {
     "name": "stdout",
     "output_type": "stream",
     "text": [
      "No Skill: ROC AUC=0.500\n",
      "Logistic: ROC AUC=0.876\n"
     ]
    },
    {
     "data": {
      "image/png": "[encoded data removed]",
      "text/plain": [
       "<Figure size 432x288 with 1 Axes>"
      ]
     },
     "metadata": {
      "needs_background": "light"
     },
     "output_type": "display_data"
    }
   ],
   "source": [
    "import pandas as pd\n",
    "from sklearn.metrics import roc_curve\n",
    "from sklearn.metrics import roc_auc_score\n",
    "from matplotlib import pyplot\n",
    "\n",
    "y_pred = pd.read_csv(\"y_pred.csv\")\n",
    "Y_test2 = pd.read_csv(\"Y_test2.csv\")\n",
    "NoSkill = [0 for _ in range(len(Y_test2))]\n",
    "\n",
    "NoSkillScore = roc_auc_score(Y_test2, NoSkill)\n",
    "ModelScore = roc_auc_score(Y_test2, y_pred)\n",
    "\n",
    "print('No Skill: ROC AUC=%.3f' % (NoSkillScore))\n",
    "print('Logistic: ROC AUC=%.3f' % (ModelScore))\n",
    "\n",
    "ns_fpr, ns_tpr, _ = roc_curve(Y_test2, NoSkill)\n",
    "lr_fpr, lr_tpr, _ = roc_curve(Y_test2, y_pred)\n",
    "# plot the roc curve for the model\n",
    "pyplot.plot(ns_fpr, ns_tpr, linestyle='--', label='No Skill')\n",
    "pyplot.plot(lr_fpr, lr_tpr, marker='.', label='Logistic')\n",
    "# axis labels\n",
    "pyplot.xlabel('False Positive Rate')\n",
    "pyplot.ylabel('True Positive Rate')\n",
    "# show the legend\n",
    "pyplot.legend()\n",
    "# show the plot\n",
    "pyplot.show()\n"
   ]
  },
  {
   "cell_type": "code",
   "execution_count": null,
   "metadata": {},
   "outputs": [],
   "source": []
  }
 ],
 "metadata": {
  "colab": {
   "name": "data_manipulation.ipynb",
   "provenance": []
  },
  "kernelspec": {
   "display_name": "Python 3",
   "language": "python",
   "name": "python3"
  },
  "language_info": {
   "codemirror_mode": {
    "name": "ipython",
    "version": 3
   },
   "file_extension": ".py",
   "mimetype": "text/x-python",
   "name": "python",
   "nbconvert_exporter": "python",
   "pygments_lexer": "ipython3",
   "version": "3.8.5"
  }
 },
 "nbformat": 4,
 "nbformat_minor": 4
}
